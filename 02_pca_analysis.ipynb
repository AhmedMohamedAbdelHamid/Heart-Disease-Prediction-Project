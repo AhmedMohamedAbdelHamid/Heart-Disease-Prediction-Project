{
 "cells": [
  {
   "cell_type": "code",
   "execution_count": 31,
   "id": "3b04a42f",
   "metadata": {},
   "outputs": [],
   "source": [
    "import os, joblib, glob, pandas as pd, numpy as np, matplotlib.pyplot as plt\n",
    "from sklearn.decomposition import PCA"
   ]
  },
  {
   "cell_type": "code",
   "execution_count": 36,
   "id": "baa32be5",
   "metadata": {},
   "outputs": [],
   "source": [
    "DEFAULT_COLS = [\n",
    "    'age','sex','cp','trestbps','chol','fbs','restecg',\n",
    "    'thalach','exang','oldpeak','slope','ca','thal','num'\n",
    "]"
   ]
  },
  {
   "cell_type": "code",
   "execution_count": 37,
   "id": "0c7a0570",
   "metadata": {},
   "outputs": [],
   "source": [
    "def _try_read_csv(path):\n",
    "    for sep in [',', r'\\s+', ';', '\\t']:\n",
    "        try:\n",
    "            df = pd.read_csv(path, header=None, sep=sep, engine='python', na_values=['?',''])\n",
    "            df = df.dropna(how='all')\n",
    "            if df.shape[1] >= 5:\n",
    "                return df\n",
    "        except Exception:\n",
    "            continue\n",
    "    with open(path, 'r', errors='ignore') as f:\n",
    "        lines = [l.strip() for l in f if l.strip()]\n",
    "    rows = [l.split() for l in lines]\n",
    "    maxcols = max(len(r) for r in rows)\n",
    "    rows = [r + [np.nan]*(maxcols-len(r)) for r in rows]\n",
    "    return pd.DataFrame(rows)"
   ]
  },
  {
   "cell_type": "code",
   "execution_count": 38,
   "id": "8e15fac9",
   "metadata": {},
   "outputs": [],
   "source": [
    "def find_data_files(data_dir='data'):\n",
    "    patterns = [os.path.join(data_dir, 'processed.*.data'),\n",
    "                os.path.join(data_dir, '*.data'),\n",
    "                os.path.join(data_dir, '*.csv')]\n",
    "    files = []\n",
    "    for p in patterns:\n",
    "        files.extend(glob.glob(p))\n",
    "    return sorted(list(dict.fromkeys(files)))"
   ]
  },
  {
   "cell_type": "code",
   "execution_count": 39,
   "id": "8b731418",
   "metadata": {},
   "outputs": [],
   "source": [
    "def load_and_combine_data(data_dir='data'):\n",
    "    if not os.path.exists(data_dir):\n",
    "        alt_path = os.path.join(\"..\", data_dir)\n",
    "        if os.path.exists(alt_path):\n",
    "            data_dir = alt_path\n",
    "\n",
    "    files = find_data_files(data_dir)\n",
    "    if not files:\n",
    "        raise FileNotFoundError(f\"No data files found in {data_dir}\")\n",
    "\n",
    "    parts = [_try_read_csv(f) for f in files]\n",
    "    df = pd.concat(parts, ignore_index=True, sort=False)\n",
    "\n",
    "    if df.shape[1] == len(DEFAULT_COLS):\n",
    "        df.columns = DEFAULT_COLS\n",
    "    else:\n",
    "        n = min(len(DEFAULT_COLS), df.shape[1])\n",
    "        df.columns = DEFAULT_COLS[:n] + [f'col_{i}' for i in range(n, df.shape[1])]\n",
    "\n",
    "    df.replace(['?', '\\x00', '\\x00\\x00', 'NA', 'na', 'null'], np.nan, inplace=True)\n",
    "    for c in df.columns:\n",
    "        df[c] = pd.to_numeric(df[c], errors='coerce')\n",
    "\n",
    "    if 'target' not in df.columns:\n",
    "        if 'num' in df.columns:\n",
    "            df['target'] = df['num'].apply(lambda x: 1 if (pd.notna(x) and x > 0) else 0)\n",
    "        else:\n",
    "            raise ValueError(\"No 'num' or 'target' column found.\")\n",
    "\n",
    "    id_cols = [c for c in df.columns if 'id' in c.lower()]\n",
    "    feature_cols = [c for c in df.columns if c not in (id_cols + ['target','num'])]\n",
    "\n",
    "    return {\n",
    "        'original': df.copy(),\n",
    "        'features': df[feature_cols].copy(),\n",
    "        'targets': df[['target']].copy(),\n",
    "        'ids': df[id_cols].copy() if id_cols else pd.DataFrame(index=df.index),\n",
    "        'headers': list(df.columns)\n",
    "    }"
   ]
  },
  {
   "cell_type": "code",
   "execution_count": 40,
   "id": "ce014373",
   "metadata": {},
   "outputs": [],
   "source": [
    "dataset = load_and_combine_data(\"data\")\n",
    "X = dataset[\"features\"]"
   ]
  },
  {
   "cell_type": "code",
   "execution_count": 41,
   "id": "6f0a3d6d",
   "metadata": {},
   "outputs": [],
   "source": [
    "preproc = joblib.load(\"models/preprocessor.pkl\")\n",
    "X_proc = preproc.fit_transform(X)"
   ]
  },
  {
   "cell_type": "code",
   "execution_count": 42,
   "id": "5530172c",
   "metadata": {},
   "outputs": [],
   "source": [
    "pca = PCA().fit(X_proc)\n",
    "explained = pca.explained_variance_ratio_"
   ]
  },
  {
   "cell_type": "code",
   "execution_count": 43,
   "id": "ac1aaa8b",
   "metadata": {},
   "outputs": [
    {
     "data": {
      "image/png": "[encoded data removed]",
      "text/plain": [
       "<Figure size 640x480 with 1 Axes>"
      ]
     },
     "metadata": {},
     "output_type": "display_data"
    },
    {
     "name": "stdout",
     "output_type": "stream",
     "text": [
      "PCA saved.\n"
     ]
    }
   ],
   "source": [
    "plt.plot(range(1, len(explained)+1), explained.cumsum(), marker=\"o\")\n",
    "plt.xlabel(\"Number of Components\")\n",
    "plt.ylabel(\"Cumulative Explained Variance\")\n",
    "plt.title(\"PCA Scree Plot\")\n",
    "plt.grid()\n",
    "plt.show()\n",
    "\n",
    "joblib.dump(pca, \"models/pca.pkl\")\n",
    "print(\"PCA saved.\")\n"
   ]
  }
 ],
 "metadata": {
  "kernelspec": {
   "display_name": "base",
   "language": "python",
   "name": "python3"
  },
  "language_info": {
   "codemirror_mode": {
    "name": "ipython",
    "version": 3
   },
   "file_extension": ".py",
   "mimetype": "text/x-python",
   "name": "python",
   "nbconvert_exporter": "python",
   "pygments_lexer": "ipython3",
   "version": "3.12.7"
  }
 },
 "nbformat": 4,
 "nbformat_minor": 5
}

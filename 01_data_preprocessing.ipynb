{
 "cells": [
  {
   "cell_type": "code",
   "execution_count": 17,
   "id": "5705d676",
   "metadata": {},
   "outputs": [],
   "source": [
    "import os, glob, pandas as pd, numpy as np, joblib\n",
    "from sklearn.compose import ColumnTransformer\n",
    "from sklearn.pipeline import Pipeline\n",
    "from sklearn.impute import SimpleImputer\n",
    "from sklearn.preprocessing import StandardScaler, OneHotEncoder"
   ]
  },
  {
   "cell_type": "code",
   "execution_count": 18,
   "id": "1b65558f",
   "metadata": {},
   "outputs": [],
   "source": [
    "DEFAULT_COLS = [\n",
    "    'age','sex','cp','trestbps','chol','fbs','restecg',\n",
    "    'thalach','exang','oldpeak','slope','ca','thal','num'\n",
    "]"
   ]
  },
  {
   "cell_type": "code",
   "execution_count": 19,
   "id": "5598dc62",
   "metadata": {},
   "outputs": [],
   "source": [
    "def _try_read_csv(path):\n",
    "    for sep in [',', r'\\s+', ';', '\\t']:\n",
    "        try:\n",
    "            df = pd.read_csv(path, header=None, sep=sep, engine='python', na_values=['?',''])\n",
    "            df = df.dropna(how='all')\n",
    "            if df.shape[1] >= 5:\n",
    "                return df\n",
    "        except Exception:\n",
    "            continue\n",
    "    with open(path, 'r', errors='ignore') as f:\n",
    "        lines = [l.strip() for l in f if l.strip()]\n",
    "    rows = [l.split() for l in lines]\n",
    "    maxcols = max(len(r) for r in rows)\n",
    "    rows = [r + [np.nan]*(maxcols-len(r)) for r in rows]\n",
    "    return pd.DataFrame(rows)"
   ]
  },
  {
   "cell_type": "code",
   "execution_count": 20,
   "id": "b4032ea2",
   "metadata": {},
   "outputs": [],
   "source": [
    "def find_data_files(data_dir='data'):\n",
    "    patterns = [os.path.join(data_dir, 'processed.*.data'),\n",
    "                os.path.join(data_dir, '*.data'),\n",
    "                os.path.join(data_dir, '*.csv')]\n",
    "    files = []\n",
    "    for p in patterns:\n",
    "        files.extend(glob.glob(p))\n",
    "    return sorted(list(dict.fromkeys(files)))"
   ]
  },
  {
   "cell_type": "code",
   "execution_count": 21,
   "id": "63e110ae",
   "metadata": {},
   "outputs": [],
   "source": [
    "def load_and_combine_data(data_dir='data'):\n",
    "    if not os.path.exists(data_dir):\n",
    "        alt_path = os.path.join(\"..\", data_dir)\n",
    "        if os.path.exists(alt_path):\n",
    "            data_dir = alt_path\n",
    "\n",
    "    files = find_data_files(data_dir)\n",
    "    if not files:\n",
    "        raise FileNotFoundError(f\"No data files found in {data_dir}\")\n",
    "\n",
    "    parts = [_try_read_csv(f) for f in files]\n",
    "    df = pd.concat(parts, ignore_index=True, sort=False)\n",
    "\n",
    "    if df.shape[1] == len(DEFAULT_COLS):\n",
    "        df.columns = DEFAULT_COLS\n",
    "    else:\n",
    "        n = min(len(DEFAULT_COLS), df.shape[1])\n",
    "        df.columns = DEFAULT_COLS[:n] + [f'col_{i}' for i in range(n, df.shape[1])]\n",
    "\n",
    "    df.replace(['?', '\\x00', '\\x00\\x00', 'NA', 'na', 'null'], np.nan, inplace=True)\n",
    "    for c in df.columns:\n",
    "        df[c] = pd.to_numeric(df[c], errors='coerce')\n",
    "\n",
    "    if 'target' not in df.columns:\n",
    "        if 'num' in df.columns:\n",
    "            df['target'] = df['num'].apply(lambda x: 1 if (pd.notna(x) and x > 0) else 0)\n",
    "        else:\n",
    "            raise ValueError(\"No 'num' or 'target' column found.\")\n",
    "\n",
    "    id_cols = [c for c in df.columns if 'id' in c.lower()]\n",
    "    feature_cols = [c for c in df.columns if c not in (id_cols + ['target','num'])]\n",
    "\n",
    "    return {\n",
    "        'original': df.copy(),\n",
    "        'features': df[feature_cols].copy(),\n",
    "        'targets': df[['target']].copy(),\n",
    "        'ids': df[id_cols].copy() if id_cols else pd.DataFrame(index=df.index),\n",
    "        'headers': list(df.columns)\n",
    "    }"
   ]
  },
  {
   "cell_type": "code",
   "execution_count": 25,
   "id": "9f95045c",
   "metadata": {},
   "outputs": [],
   "source": [
    "dataset = load_and_combine_data(\"data\")\n",
    "df = dataset[\"original\"]\n",
    "X = dataset[\"features\"]\n",
    "y = dataset[\"targets\"][\"target\"]"
   ]
  },
  {
   "cell_type": "code",
   "execution_count": 26,
   "id": "33689679",
   "metadata": {},
   "outputs": [],
   "source": [
    "cat_cols = [c for c in X.columns if (X[c].dtype == object) or (X[c].nunique() <= 6)]\n",
    "num_cols = [c for c in X.columns if c not in cat_cols]\n",
    "\n",
    "ohe = OneHotEncoder(handle_unknown=\"ignore\", sparse_output=False)\n",
    "preprocessor = ColumnTransformer([\n",
    "    (\"num\", Pipeline([(\"imp\", SimpleImputer(strategy=\"median\")), (\"scaler\", StandardScaler())]), num_cols),\n",
    "    (\"cat\", Pipeline([(\"imp\", SimpleImputer(strategy=\"most_frequent\")), (\"oh\", ohe)]), cat_cols)\n",
    "])"
   ]
  },
  {
   "cell_type": "code",
   "execution_count": null,
   "id": "e2970c18",
   "metadata": {},
   "outputs": [
    {
     "name": "stdout",
     "output_type": "stream",
     "text": [
      "Cleaned dataset and preprocessor saved.\n"
     ]
    }
   ],
   "source": [
    "os.makedirs(\"data\", exist_ok=True)\n",
    "os.makedirs(\"models\", exist_ok=True)\n",
    "df.to_csv(\"data/heart_disease_clean.csv\", index=False)\n",
    "joblib.dump(preprocessor, \"models/preprocessor.pkl\")\n",
    "\n",
    "print(\"Cleaned dataset and preprocessor saved.\")\n"
   ]
  }
 ],
 "metadata": {
  "kernelspec": {
   "display_name": "base",
   "language": "python",
   "name": "python3"
  },
  "language_info": {
   "codemirror_mode": {
    "name": "ipython",
    "version": 3
   },
   "file_extension": ".py",
   "mimetype": "text/x-python",
   "name": "python",
   "nbconvert_exporter": "python",
   "pygments_lexer": "ipython3",
   "version": "3.12.7"
  }
 },
 "nbformat": 4,
 "nbformat_minor": 5
}

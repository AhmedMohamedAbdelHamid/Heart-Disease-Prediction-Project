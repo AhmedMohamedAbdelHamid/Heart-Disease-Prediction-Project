{
 "cells": [
  {
   "cell_type": "code",
   "execution_count": 26,
   "id": "7c3bdc30",
   "metadata": {},
   "outputs": [],
   "source": [
    "import joblib, os, glob, numpy as np, pandas as pd\n",
    "from sklearn.ensemble import RandomForestClassifier\n",
    "from sklearn.linear_model import LogisticRegression\n",
    "from sklearn.feature_selection import RFE"
   ]
  },
  {
   "cell_type": "code",
   "execution_count": 27,
   "id": "77253929",
   "metadata": {},
   "outputs": [],
   "source": [
    "DEFAULT_COLS = [\n",
    "    'age','sex','cp','trestbps','chol','fbs','restecg',\n",
    "    'thalach','exang','oldpeak','slope','ca','thal','num'\n",
    "]"
   ]
  },
  {
   "cell_type": "code",
   "execution_count": 28,
   "id": "8e042b4d",
   "metadata": {},
   "outputs": [],
   "source": [
    "def _try_read_csv(path):\n",
    "    for sep in [',', r'\\s+', ';', '\\t']:\n",
    "        try:\n",
    "            df = pd.read_csv(path, header=None, sep=sep, engine='python', na_values=['?',''])\n",
    "            df = df.dropna(how='all')\n",
    "            if df.shape[1] >= 5:\n",
    "                return df\n",
    "        except Exception:\n",
    "            continue\n",
    "    with open(path, 'r', errors='ignore') as f:\n",
    "        lines = [l.strip() for l in f if l.strip()]\n",
    "    rows = [l.split() for l in lines]\n",
    "    maxcols = max(len(r) for r in rows)\n",
    "    rows = [r + [np.nan]*(maxcols-len(r)) for r in rows]\n",
    "    return pd.DataFrame(rows)"
   ]
  },
  {
   "cell_type": "code",
   "execution_count": 29,
   "id": "f3056e0c",
   "metadata": {},
   "outputs": [],
   "source": [
    "def find_data_files(data_dir='data'):\n",
    "    patterns = [os.path.join(data_dir, 'processed.*.data'),\n",
    "                os.path.join(data_dir, '*.data'),\n",
    "                os.path.join(data_dir, '*.csv')]\n",
    "    files = []\n",
    "    for p in patterns:\n",
    "        files.extend(glob.glob(p))\n",
    "    return sorted(list(dict.fromkeys(files)))"
   ]
  },
  {
   "cell_type": "code",
   "execution_count": 30,
   "id": "5357a96c",
   "metadata": {},
   "outputs": [],
   "source": [
    "def load_and_combine_data(data_dir='data'):\n",
    "    if not os.path.exists(data_dir):\n",
    "        alt_path = os.path.join(\"..\", data_dir)\n",
    "        if os.path.exists(alt_path):\n",
    "            data_dir = alt_path\n",
    "\n",
    "    files = find_data_files(data_dir)\n",
    "    if not files:\n",
    "        raise FileNotFoundError(f\"No data files found in {data_dir}\")\n",
    "\n",
    "    parts = [_try_read_csv(f) for f in files]\n",
    "    df = pd.concat(parts, ignore_index=True, sort=False)\n",
    "\n",
    "    if df.shape[1] == len(DEFAULT_COLS):\n",
    "        df.columns = DEFAULT_COLS\n",
    "    else:\n",
    "        n = min(len(DEFAULT_COLS), df.shape[1])\n",
    "        df.columns = DEFAULT_COLS[:n] + [f'col_{i}' for i in range(n, df.shape[1])]\n",
    "\n",
    "    df.replace(['?', '\\x00', '\\x00\\x00', 'NA', 'na', 'null'], np.nan, inplace=True)\n",
    "    for c in df.columns:\n",
    "        df[c] = pd.to_numeric(df[c], errors='coerce')\n",
    "\n",
    "    if 'target' not in df.columns:\n",
    "        if 'num' in df.columns:\n",
    "            df['target'] = df['num'].apply(lambda x: 1 if (pd.notna(x) and x > 0) else 0)\n",
    "        else:\n",
    "            raise ValueError(\"No 'num' or 'target' column found.\")\n",
    "\n",
    "    id_cols = [c for c in df.columns if 'id' in c.lower()]\n",
    "    feature_cols = [c for c in df.columns if c not in (id_cols + ['target','num'])]\n",
    "\n",
    "    return {\n",
    "        'original': df.copy(),\n",
    "        'features': df[feature_cols].copy(),\n",
    "        'targets': df[['target']].copy(),\n",
    "        'ids': df[id_cols].copy() if id_cols else pd.DataFrame(index=df.index),\n",
    "        'headers': list(df.columns)\n",
    "    }"
   ]
  },
  {
   "cell_type": "code",
   "execution_count": 31,
   "id": "3bbf4c1b",
   "metadata": {},
   "outputs": [],
   "source": [
    "dataset = load_and_combine_data(\"data\")\n",
    "X = dataset[\"features\"]\n",
    "y = dataset[\"targets\"][\"target\"]"
   ]
  },
  {
   "cell_type": "code",
   "execution_count": 32,
   "id": "72a4db10",
   "metadata": {},
   "outputs": [],
   "source": [
    "preproc = joblib.load(\"models/preprocessor.pkl\")\n",
    "X_proc = preproc.fit_transform(X)\n",
    "feat_names = preproc.get_feature_names_out()"
   ]
  },
  {
   "cell_type": "code",
   "execution_count": 33,
   "id": "74bbaa28",
   "metadata": {},
   "outputs": [
    {
     "name": "stdout",
     "output_type": "stream",
     "text": [
      "Top 10 by RF: [('num__oldpeak', 0.14456521432200378), ('num__exang', 0.13757259036510322), ('num__thalach', 0.12684037013391664), ('cat__col_28_1.0', 0.08792498380569119), ('cat__col_28_0.0', 0.07594651029997225), ('num__trestbps', 0.07361953888988268), ('num__age', 0.06897736841394743), ('num__cp', 0.06789046405551255), ('num__chol', 0.06014723258968327), ('num__thal', 0.05214064597499033)]\n"
     ]
    }
   ],
   "source": [
    "rf = RandomForestClassifier(n_estimators=200, random_state=42)\n",
    "rf.fit(X_proc, y)\n",
    "importances = rf.feature_importances_\n",
    "imp_sorted = sorted(zip(feat_names, importances), key=lambda x: -x[1])\n",
    "print(\"Top 10 by RF:\", imp_sorted[:10])"
   ]
  },
  {
   "cell_type": "code",
   "execution_count": 34,
   "id": "6a00b84d",
   "metadata": {},
   "outputs": [
    {
     "name": "stdout",
     "output_type": "stream",
     "text": [
      "RFE selected: ['num__trestbps', 'cat__col_14_-9.0', 'cat__col_14_1.0', 'cat__col_19_0.0', 'cat__col_21_2116.0', 'cat__col_22_3.0', 'cat__col_24_-9.0', 'cat__col_24_1.0', 'cat__col_28_0.0', 'cat__col_28_1.0']\n"
     ]
    }
   ],
   "source": [
    "logreg = LogisticRegression(max_iter=2000)\n",
    "rfe = RFE(logreg, n_features_to_select=10).fit(X_proc, y)\n",
    "selected = [f for f, s in zip(feat_names, rfe.support_) if s]\n",
    "print(\"RFE selected:\", selected)"
   ]
  }
 ],
 "metadata": {
  "kernelspec": {
   "display_name": "base",
   "language": "python",
   "name": "python3"
  },
  "language_info": {
   "codemirror_mode": {
    "name": "ipython",
    "version": 3
   },
   "file_extension": ".py",
   "mimetype": "text/x-python",
   "name": "python",
   "nbconvert_exporter": "python",
   "pygments_lexer": "ipython3",
   "version": "3.12.7"
  }
 },
 "nbformat": 4,
 "nbformat_minor": 5
}

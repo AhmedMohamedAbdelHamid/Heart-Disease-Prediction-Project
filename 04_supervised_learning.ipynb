{
 "cells": [
  {
   "cell_type": "code",
   "execution_count": 2,
   "id": "8293a76b",
   "metadata": {},
   "outputs": [],
   "source": [
    "import joblib, os, glob, pandas as pd, numpy as np\n",
    "from sklearn.pipeline import Pipeline\n",
    "from sklearn.linear_model import LogisticRegression\n",
    "from sklearn.ensemble import RandomForestClassifier\n",
    "from sklearn.svm import SVC\n",
    "from sklearn.tree import DecisionTreeClassifier\n",
    "from sklearn.metrics import classification_report, roc_auc_score"
   ]
  },
  {
   "cell_type": "code",
   "execution_count": 3,
   "id": "4a273497",
   "metadata": {},
   "outputs": [],
   "source": [
    "DEFAULT_COLS = [\n",
    "    'age','sex','cp','trestbps','chol','fbs','restecg',\n",
    "    'thalach','exang','oldpeak','slope','ca','thal','num'\n",
    "]"
   ]
  },
  {
   "cell_type": "code",
   "execution_count": 4,
   "id": "53c4dcfe",
   "metadata": {},
   "outputs": [],
   "source": [
    "def _try_read_csv(path):\n",
    "    for sep in [',', r'\\s+', ';', '\\t']:\n",
    "        try:\n",
    "            df = pd.read_csv(path, header=None, sep=sep, engine='python', na_values=['?',''])\n",
    "            df = df.dropna(how='all')\n",
    "            if df.shape[1] >= 5:\n",
    "                return df\n",
    "        except Exception:\n",
    "            continue\n",
    "    with open(path, 'r', errors='ignore') as f:\n",
    "        lines = [l.strip() for l in f if l.strip()]\n",
    "    rows = [l.split() for l in lines]\n",
    "    maxcols = max(len(r) for r in rows)\n",
    "    rows = [r + [np.nan]*(maxcols-len(r)) for r in rows]\n",
    "    return pd.DataFrame(rows)"
   ]
  },
  {
   "cell_type": "code",
   "execution_count": 5,
   "id": "396d327f",
   "metadata": {},
   "outputs": [],
   "source": [
    "def find_data_files(data_dir='data'):\n",
    "    patterns = [os.path.join(data_dir, 'processed.*.data'),\n",
    "                os.path.join(data_dir, '*.data'),\n",
    "                os.path.join(data_dir, '*.csv')]\n",
    "    files = []\n",
    "    for p in patterns:\n",
    "        files.extend(glob.glob(p))\n",
    "    return sorted(list(dict.fromkeys(files)))"
   ]
  },
  {
   "cell_type": "code",
   "execution_count": 6,
   "id": "8e2a5468",
   "metadata": {},
   "outputs": [],
   "source": [
    "def load_and_combine_data(data_dir='data'):\n",
    "    if not os.path.exists(data_dir):\n",
    "        alt_path = os.path.join(\"..\", data_dir)\n",
    "        if os.path.exists(alt_path):\n",
    "            data_dir = alt_path\n",
    "\n",
    "    files = find_data_files(data_dir)\n",
    "    if not files:\n",
    "        raise FileNotFoundError(f\"No data files found in {data_dir}\")\n",
    "\n",
    "    parts = [_try_read_csv(f) for f in files]\n",
    "    df = pd.concat(parts, ignore_index=True, sort=False)\n",
    "\n",
    "    if df.shape[1] == len(DEFAULT_COLS):\n",
    "        df.columns = DEFAULT_COLS\n",
    "    else:\n",
    "        n = min(len(DEFAULT_COLS), df.shape[1])\n",
    "        df.columns = DEFAULT_COLS[:n] + [f'col_{i}' for i in range(n, df.shape[1])]\n",
    "\n",
    "    df.replace(['?', '\\x00', '\\x00\\x00', 'NA', 'na', 'null'], np.nan, inplace=True)\n",
    "    for c in df.columns:\n",
    "        df[c] = pd.to_numeric(df[c], errors='coerce')\n",
    "\n",
    "    if 'target' not in df.columns:\n",
    "        if 'num' in df.columns:\n",
    "            df['target'] = df['num'].apply(lambda x: 1 if (pd.notna(x) and x > 0) else 0)\n",
    "        else:\n",
    "            raise ValueError(\"No 'num' or 'target' column found.\")\n",
    "\n",
    "    id_cols = [c for c in df.columns if 'id' in c.lower()]\n",
    "    feature_cols = [c for c in df.columns if c not in (id_cols + ['target','num'])]\n",
    "\n",
    "    return {\n",
    "        'original': df.copy(),\n",
    "        'features': df[feature_cols].copy(),\n",
    "        'targets': df[['target']].copy(),\n",
    "        'ids': df[id_cols].copy() if id_cols else pd.DataFrame(index=df.index),\n",
    "        'headers': list(df.columns)\n",
    "    }"
   ]
  },
  {
   "cell_type": "code",
   "execution_count": 7,
   "id": "12916814",
   "metadata": {},
   "outputs": [],
   "source": [
    "dataset = load_and_combine_data(\"data\")\n",
    "X = dataset[\"features\"]\n",
    "y = dataset[\"targets\"][\"target\"]"
   ]
  },
  {
   "cell_type": "code",
   "execution_count": 8,
   "id": "d39fbc82",
   "metadata": {},
   "outputs": [],
   "source": [
    "preproc = joblib.load(\"models/preprocessor.pkl\")"
   ]
  },
  {
   "cell_type": "code",
   "execution_count": 9,
   "id": "08eae4c5",
   "metadata": {},
   "outputs": [],
   "source": [
    "models = {\n",
    "    \"LogisticRegression\": LogisticRegression(max_iter=2000, random_state=42),\n",
    "    \"RandomForest\": RandomForestClassifier(n_estimators=200, random_state=42),\n",
    "    \"SVC\": SVC(probability=True, random_state=42),\n",
    "    \"DecisionTree\": DecisionTreeClassifier(random_state=42)\n",
    "}"
   ]
  },
  {
   "cell_type": "code",
   "execution_count": 11,
   "id": "60e3ac88",
   "metadata": {},
   "outputs": [
    {
     "name": "stdout",
     "output_type": "stream",
     "text": [
      "\n",
      "LogisticRegression\n",
      "              precision    recall  f1-score   support\n",
      "\n",
      "           0       0.99      1.00      0.99     84686\n",
      "           1       0.88      0.40      0.55      1890\n",
      "\n",
      "    accuracy                           0.99     86576\n",
      "   macro avg       0.93      0.70      0.77     86576\n",
      "weighted avg       0.98      0.99      0.98     86576\n",
      "\n",
      "AUC: 0.9805452498223441\n",
      "\n",
      "RandomForest\n",
      "              precision    recall  f1-score   support\n",
      "\n",
      "           0       1.00      1.00      1.00     84686\n",
      "           1       1.00      1.00      1.00      1890\n",
      "\n",
      "    accuracy                           1.00     86576\n",
      "   macro avg       1.00      1.00      1.00     86576\n",
      "weighted avg       1.00      1.00      1.00     86576\n",
      "\n",
      "AUC: 1.0\n",
      "\n",
      "SVC\n",
      "              precision    recall  f1-score   support\n",
      "\n",
      "           0       0.99      1.00      0.99     84686\n",
      "           1       1.00      0.34      0.51      1890\n",
      "\n",
      "    accuracy                           0.99     86576\n",
      "   macro avg       0.99      0.67      0.75     86576\n",
      "weighted avg       0.99      0.99      0.98     86576\n",
      "\n",
      "AUC: 0.9748705676131697\n",
      "\n",
      "DecisionTree\n",
      "              precision    recall  f1-score   support\n",
      "\n",
      "           0       1.00      1.00      1.00     84686\n",
      "           1       1.00      1.00      1.00      1890\n",
      "\n",
      "    accuracy                           1.00     86576\n",
      "   macro avg       1.00      1.00      1.00     86576\n",
      "weighted avg       1.00      1.00      1.00     86576\n",
      "\n",
      "AUC: 1.0\n"
     ]
    }
   ],
   "source": [
    "for name, clf in models.items():\n",
    "    pipe = Pipeline([(\"preproc\", preproc), (\"clf\", clf)])\n",
    "    pipe.fit(X, y)\n",
    "    y_pred = pipe.predict(X)\n",
    "    y_proba = pipe.predict_proba(X)[:,1] if hasattr(pipe, \"predict_proba\") else None\n",
    "    auc = roc_auc_score(y, y_proba) if y_proba is not None else None\n",
    "    print(f\"\\n{name}\")\n",
    "    print(classification_report(y, y_pred))\n",
    "    print(\"AUC:\", auc)"
   ]
  },
  {
   "cell_type": "code",
   "execution_count": 12,
   "id": "f306a5f0",
   "metadata": {},
   "outputs": [],
   "source": [
    "models = {\n",
    "    \"SVC\": SVC(probability=True, random_state=42),\n",
    "    \"DecisionTree\": DecisionTreeClassifier(random_state=42)\n",
    "}"
   ]
  },
  {
   "cell_type": "code",
   "execution_count": 13,
   "id": "811ca49d",
   "metadata": {},
   "outputs": [
    {
     "name": "stdout",
     "output_type": "stream",
     "text": [
      "\n",
      "SVC\n",
      "              precision    recall  f1-score   support\n",
      "\n",
      "           0       0.99      1.00      0.99     84686\n",
      "           1       1.00      0.34      0.51      1890\n",
      "\n",
      "    accuracy                           0.99     86576\n",
      "   macro avg       0.99      0.67      0.75     86576\n",
      "weighted avg       0.99      0.99      0.98     86576\n",
      "\n",
      "AUC: 0.9748705676131697\n",
      "\n",
      "DecisionTree\n",
      "              precision    recall  f1-score   support\n",
      "\n",
      "           0       1.00      1.00      1.00     84686\n",
      "           1       1.00      1.00      1.00      1890\n",
      "\n",
      "    accuracy                           1.00     86576\n",
      "   macro avg       1.00      1.00      1.00     86576\n",
      "weighted avg       1.00      1.00      1.00     86576\n",
      "\n",
      "AUC: 1.0\n"
     ]
    }
   ],
   "source": [
    "for name, clf in models.items():\n",
    "    pipe = Pipeline([(\"preproc\", preproc), (\"clf\", clf)])\n",
    "    pipe.fit(X, y)\n",
    "    y_pred = pipe.predict(X)\n",
    "    y_proba = pipe.predict_proba(X)[:,1] if hasattr(pipe, \"predict_proba\") else None\n",
    "    auc = roc_auc_score(y, y_proba) if y_proba is not None else None\n",
    "    print(f\"\\n{name}\")\n",
    "    print(classification_report(y, y_pred))\n",
    "    print(\"AUC:\", auc)"
   ]
  }
 ],
 "metadata": {
  "kernelspec": {
   "display_name": "base",
   "language": "python",
   "name": "python3"
  },
  "language_info": {
   "codemirror_mode": {
    "name": "ipython",
    "version": 3
   },
   "file_extension": ".py",
   "mimetype": "text/x-python",
   "name": "python",
   "nbconvert_exporter": "python",
   "pygments_lexer": "ipython3",
   "version": "3.12.7"
  }
 },
 "nbformat": 4,
 "nbformat_minor": 5
}
